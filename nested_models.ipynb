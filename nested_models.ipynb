{
 "cells": [
  {
   "cell_type": "markdown",
   "metadata": {},
   "source": [
    "# Model fitting"
   ]
  },
  {
   "cell_type": "code",
   "execution_count": 89,
   "metadata": {
    "collapsed": false
   },
   "outputs": [],
   "source": [
    "#!/usr/bin/python\n",
    "# by DBR 2/2017 #\n",
    "\n",
    "%matplotlib inline  \n",
    "\n",
    "import pandas as pd\n",
    "import numpy as np\n",
    "import matplotlib.pyplot as plt\n",
    "from scipy.optimize import curve_fit\n",
    "from all_models import *\n",
    "from scipy.stats import norm\n",
    "from time import time\n",
    "\n",
    "#plt.style.use('seaborn-white')\n",
    "plt.style.use('ggplot')\n",
    "\n",
    "#upload data\n",
    "prim_df = pd.DataFrame.from_csv('data/prim_df.csv')\n",
    "prim_weeks = pd.DataFrame.from_csv('data/prim_weeks.csv')\n",
    "ATI_df = pd.DataFrame.from_csv('data/ATI_df.csv')\n",
    "ATI_weeks = pd.DataFrame.from_csv('data/ATI_weeks.csv')\n",
    "\n",
    "#names of 8 good rebounds\n",
    "ATI_list = [['Z09087','Z09106','Z09192','Z09204'],\n",
    "            ['Z09144','Z08214','A11200','Z09196']] \n",
    "\n",
    "#colors for plotting\n",
    "cz=[['darkcyan','indigo','blue', 'royalblue'],\n",
    "    ['indianred', 'darkred', 'salmon', 'red']]\n"
   ]
  },
  {
   "cell_type": "code",
   "execution_count": 2,
   "metadata": {
    "collapsed": true
   },
   "outputs": [],
   "source": [
    "#names of parameters to vary\n",
    "param_names=[r'$\\alpha_S$',\n",
    "             r'$\\delta_S$',\n",
    "             r'$\\beta$',\n",
    "             r'$\\tau$',\n",
    "             r'$\\delta_U$',\n",
    "             r'$\\delta_P$',\n",
    "             r'$\\kappa$',\n",
    "             r'$\\alpha_E$',\n",
    "             r'$\\delta_E$',\n",
    "             r'$E_{50}$',\n",
    "             r'$\\omega$',\n",
    "             r'$\\pi$',\n",
    "             r'$\\gamma$',\n",
    "             r'$S_0$',\n",
    "             r'$E_0$']\n"
   ]
  },
  {
   "cell_type": "code",
   "execution_count": 113,
   "metadata": {
    "collapsed": false,
    "scrolled": true
   },
   "outputs": [],
   "source": [
    "#intial parameter guesses\n",
    "\n",
    "aS = 100;   #constant growth rate of susceptibles [cells/uL/day]\n",
    "dS = 0.3;   #susceptible death rate [1/day] \n",
    "Bt = 1e-4;  #infectivity [cells/virion-day]\n",
    "tau= 0.05   #productively infected probability\n",
    "dP = 1;     #productively infected death rate [1/day]\n",
    "dU = 1;     #unproductively infected death rate [1/day]\n",
    "dI = dP\n",
    "k  = 0.01;    #immune cell killing rate [1/day]\n",
    "aE = 0.0005; #initial E cell concentration [cells/uL]\n",
    "dE = 0.01;   #immune death rate [1/day]\n",
    "E50= 250;   #50 pct max E cell concentration [cells/uL]\n",
    "w  = 0.01;  #immune cell multiplier [1/day]\n",
    "p  = 5e4    #leak+burst viral production rate [virions/cell]\n",
    "g  = 23     #viral clearance [1/day]\n",
    "\n",
    "#initial conditions that are always true regardless of model\n",
    "U0=0      #no infected cells\n",
    "P0=0      #productively infected cells\n",
    "V0=0.03   #start with 30 copies per mL\n",
    "\n",
    "#other initial conditions\n",
    "S0 = aS/dS\n",
    "E0 = aE/dE\n",
    "\n",
    "guess1 = aS,dS,Bt,tau,dU,dP,k,aE,dE,E50,w,p,g,S0,E0\n",
    "guess2 = aS,dS,Bt,tau,dI,k,aE,dE,E50,w,p,g,S0,E0\n",
    "guess3 = aS,dS,Bt,tau,dI,k,aE,dE,E50,w,p,g,S0,E0\n",
    "guess4 = aS,dS,Bt*tau,dI,k,aE,dE,E50,w,p,g,S0,E0 #no U so need smaller beta\n",
    "guess5 = aS,dS,Bt,tau,dU,dP,p,g,S0,E0\n",
    "guess6 = aS,dS,Bt*tau,dI,p,g,S0\n",
    "\n",
    "pz=np.array([len(guess1),len(guess2),len(guess3),len(guess4),len(guess5),len(guess6)]) #number of parameters in each model"
   ]
  },
  {
   "cell_type": "code",
   "execution_count": 114,
   "metadata": {
    "collapsed": true
   },
   "outputs": [],
   "source": [
    "def make_bounds(guess,fac):\n",
    "    return tuple([tuple(np.array(guess)/fac),tuple(np.array(guess)*fac)])\n",
    "    \n"
   ]
  },
  {
   "cell_type": "code",
   "execution_count": 123,
   "metadata": {
    "collapsed": false
   },
   "outputs": [
    {
     "name": "stdout",
     "output_type": "stream",
     "text": [
      "0 30.137\n",
      "1 41.529\n",
      "2 49.636\n",
      "3 53.993\n",
      "4 62.415\n"
     ]
    }
   ],
   "source": [
    "#fit the models\n",
    "run_time0=time()\n",
    "\n",
    "po_list=[[],[],[],[],[],[]]; pc_list=[[],[],[],[],[],[]]; #intialize arrays\n",
    "m_list=range(5) #choose which monkeys to fit\n",
    "for m in m_list:\n",
    "\n",
    "    t_data = prim_weeks.values[:,0]*7 #put in days scale\n",
    "    V_data = np.log10(prim_df.iloc[:,m].interpolate(method='linear',axis=0,limit=2)) #use log data\n",
    "\n",
    "    #model 1 fit\n",
    "    po, pc = curve_fit(run1_tofit, t_data, V_data, p0=guess1, bounds=make_bounds(guess1,100))#, sigma=1, absolute_sigma=True, max_nfev=1e3) \n",
    "    po_list[0].append(po); pc_list[0].append(pc)\n",
    "\n",
    "    #model 2 fit\n",
    "    po, pc = curve_fit(run2_tofit, t_data, V_data, p0=guess2, bounds=make_bounds(guess2,100))#, sigma=1, absolute_sigma=True, max_nfev=1e3) \n",
    "    po_list[1].append(po); pc_list[1].append(pc)\n",
    "\n",
    "    #model 3 fit\n",
    "    po, pc = curve_fit(run3_tofit, t_data, V_data, p0=guess3, bounds=make_bounds(guess3,100))#, sigma=1, absolute_sigma=True, max_nfev=1e3) \n",
    "    po_list[2].append(po); pc_list[2].append(pc)\n",
    "\n",
    "    #model 4 fit\n",
    "    po, pc = curve_fit(run4_tofit, t_data, V_data, p0=guess4, bounds=make_bounds(guess4,100))#, sigma=1, absolute_sigma=True, max_nfev=1e3) \n",
    "    po_list[3].append(po); pc_list[3].append(pc)\n",
    "\n",
    "    #model 5 fit\n",
    "    po, pc = curve_fit(run5_tofit, t_data, V_data, p0=guess5, bounds=make_bounds(guess5,100))#, sigma=1, absolute_sigma=True, max_nfev=1e3) \n",
    "    po_list[4].append(po); pc_list[4].append(pc)\n",
    "\n",
    "    #model 6 fit\n",
    "    po, pc = curve_fit(run6_tofit, t_data, V_data, p0=guess6, bounds=make_bounds(guess6,100))#, sigma=1, absolute_sigma=True, max_nfev=1e3) \n",
    "    po_list[5].append(po); pc_list[5].append(pc)\n",
    "\n",
    "    print(m,np.round(time()-run_time0,3))\n"
   ]
  },
  {
   "cell_type": "code",
   "execution_count": 111,
   "metadata": {
    "collapsed": false
   },
   "outputs": [
    {
     "ename": "IndexError",
     "evalue": "list index out of range",
     "output_type": "error",
     "traceback": [
      "\u001b[0;31m---------------------------------------------------------------------------\u001b[0m",
      "\u001b[0;31mIndexError\u001b[0m                                Traceback (most recent call last)",
      "\u001b[0;32m<ipython-input-111-536e41a2b151>\u001b[0m in \u001b[0;36m<module>\u001b[0;34m()\u001b[0m\n\u001b[1;32m      7\u001b[0m \u001b[0;34m\u001b[0m\u001b[0m\n\u001b[1;32m      8\u001b[0m \u001b[0;32mfor\u001b[0m \u001b[0mm\u001b[0m \u001b[0;32min\u001b[0m \u001b[0mrange\u001b[0m\u001b[0;34m(\u001b[0m\u001b[0;36m25\u001b[0m\u001b[0;34m)\u001b[0m\u001b[0;34m:\u001b[0m\u001b[0;34m\u001b[0m\u001b[0m\n\u001b[0;32m----> 9\u001b[0;31m     \u001b[0maS\u001b[0m\u001b[0;34m,\u001b[0m\u001b[0mdS\u001b[0m\u001b[0;34m,\u001b[0m\u001b[0mBt\u001b[0m\u001b[0;34m,\u001b[0m\u001b[0mtau\u001b[0m\u001b[0;34m,\u001b[0m\u001b[0mdU\u001b[0m\u001b[0;34m,\u001b[0m\u001b[0mdP\u001b[0m\u001b[0;34m,\u001b[0m\u001b[0mk\u001b[0m\u001b[0;34m,\u001b[0m\u001b[0maE\u001b[0m\u001b[0;34m,\u001b[0m\u001b[0mdE\u001b[0m\u001b[0;34m,\u001b[0m\u001b[0mE50\u001b[0m\u001b[0;34m,\u001b[0m\u001b[0mw\u001b[0m\u001b[0;34m,\u001b[0m\u001b[0mp\u001b[0m\u001b[0;34m,\u001b[0m\u001b[0mg\u001b[0m\u001b[0;34m,\u001b[0m\u001b[0mS0\u001b[0m\u001b[0;34m,\u001b[0m\u001b[0mE0\u001b[0m\u001b[0;34m=\u001b[0m\u001b[0mpo_list\u001b[0m\u001b[0;34m[\u001b[0m\u001b[0;36m0\u001b[0m\u001b[0;34m]\u001b[0m\u001b[0;34m[\u001b[0m\u001b[0mm\u001b[0m\u001b[0;34m]\u001b[0m\u001b[0;34m\u001b[0m\u001b[0m\n\u001b[0m\u001b[1;32m     10\u001b[0m     \u001b[0mV_sim\u001b[0m \u001b[0;34m=\u001b[0m \u001b[0mrun1_tofit\u001b[0m\u001b[0;34m(\u001b[0m\u001b[0mt_data\u001b[0m\u001b[0;34m,\u001b[0m\u001b[0maS\u001b[0m\u001b[0;34m,\u001b[0m\u001b[0mdS\u001b[0m\u001b[0;34m,\u001b[0m\u001b[0mBt\u001b[0m\u001b[0;34m,\u001b[0m\u001b[0mtau\u001b[0m\u001b[0;34m,\u001b[0m\u001b[0mdU\u001b[0m\u001b[0;34m,\u001b[0m\u001b[0mdP\u001b[0m\u001b[0;34m,\u001b[0m\u001b[0mk\u001b[0m\u001b[0;34m,\u001b[0m\u001b[0maE\u001b[0m\u001b[0;34m,\u001b[0m\u001b[0mdE\u001b[0m\u001b[0;34m,\u001b[0m\u001b[0mE50\u001b[0m\u001b[0;34m,\u001b[0m\u001b[0mw\u001b[0m\u001b[0;34m,\u001b[0m\u001b[0mp\u001b[0m\u001b[0;34m,\u001b[0m\u001b[0mg\u001b[0m\u001b[0;34m,\u001b[0m\u001b[0mS0\u001b[0m\u001b[0;34m,\u001b[0m\u001b[0mE0\u001b[0m\u001b[0;34m)\u001b[0m\u001b[0;34m\u001b[0m\u001b[0m\n\u001b[1;32m     11\u001b[0m     \u001b[0mlk_list\u001b[0m\u001b[0;34m[\u001b[0m\u001b[0;36m0\u001b[0m\u001b[0;34m]\u001b[0m\u001b[0;34m.\u001b[0m\u001b[0mappend\u001b[0m\u001b[0;34m(\u001b[0m\u001b[0mnp\u001b[0m\u001b[0;34m.\u001b[0m\u001b[0mlog\u001b[0m\u001b[0;34m(\u001b[0m\u001b[0mnp\u001b[0m\u001b[0;34m.\u001b[0m\u001b[0mnanprod\u001b[0m\u001b[0;34m(\u001b[0m\u001b[0mnorm\u001b[0m\u001b[0;34m.\u001b[0m\u001b[0mpdf\u001b[0m\u001b[0;34m(\u001b[0m\u001b[0mx\u001b[0m\u001b[0;34m=\u001b[0m\u001b[0mV_sim\u001b[0m\u001b[0;34m,\u001b[0m\u001b[0mloc\u001b[0m\u001b[0;34m=\u001b[0m\u001b[0mV_data\u001b[0m\u001b[0;34m,\u001b[0m\u001b[0mscale\u001b[0m\u001b[0;34m=\u001b[0m\u001b[0mVscl\u001b[0m\u001b[0;34m)\u001b[0m\u001b[0;34m)\u001b[0m\u001b[0;34m)\u001b[0m\u001b[0;34m)\u001b[0m \u001b[0;31m#log likelihood\u001b[0m\u001b[0;34m\u001b[0m\u001b[0m\n",
      "\u001b[0;31mIndexError\u001b[0m: list index out of range"
     ]
    }
   ],
   "source": [
    "#calculate likelihoods and AIC\n",
    "\n",
    "lk_list=[[],[],[],[],[],[]];\n",
    "AIC_arr=np.zeros([len(modelz),25])\n",
    "\n",
    "Vscl=0.8\n",
    "\n",
    "for m in range(25):\n",
    "    aS,dS,Bt,tau,dU,dP,k,aE,dE,E50,w,p,g,S0,E0=po_list[0][m]\n",
    "    V_sim = run1_tofit(t_data,aS,dS,Bt,tau,dU,dP,k,aE,dE,E50,w,p,g,S0,E0)\n",
    "    lk_list[0].append(np.log(np.nanprod(norm.pdf(x=V_sim,loc=V_data,scale=Vscl)))) #log likelihood\n",
    "\n",
    "    aS,dS,Bt,tau,dI,k,aE,dE,E50,w,p,g,S0,E0=po_list[1][m]\n",
    "    V_sim = run2_tofit(t_data,aS,dS,Bt,tau,dI,k,aE,dE,E50,w,p,g,S0,E0)\n",
    "    lk_list[1].append(np.log(np.nanprod(norm.pdf(x=V_sim,loc=V_data,scale=Vscl)))) #log likelihood\n",
    "\n",
    "    aS,dS,Bt,tau,dI,k,aE,dE,E50,w,p,g,S0,E0=po_list[2][m]\n",
    "    V_sim = run3_tofit(t_data,aS,dS,Bt,tau,dI,k,aE,dE,E50,w,p,g,S0,E0)\n",
    "    lk_list[2].append(np.log(np.nanprod(norm.pdf(x=V_sim,loc=V_data,scale=Vscl)))) #log likelihood\n",
    "\n",
    "    aS,dS,Bt,dI,k,aE,dE,E50,w,p,g,S0,E0=po_list[3][m]\n",
    "    V_sim = run4_tofit(t_data,aS,dS,Bt,dI,k,aE,dE,E50,w,p,g,S0,E0)\n",
    "    lk_list[3].append(np.log(np.nanprod(norm.pdf(x=V_sim,loc=V_data,scale=Vscl)))) #log likelihood\n",
    "\n",
    "    aS,dS,Bt,tau,dU,dP,p,g,S0,E0=po_list[4][m]\n",
    "    V_sim = run5_tofit(t_data,aS,dS,Bt,tau,dU,dP,p,g,S0,E0)\n",
    "    lk_list[4].append(np.log(np.nanprod(norm.pdf(x=V_sim,loc=V_data,scale=Vscl)))) #log likelihood\n",
    "\n",
    "    aS,dS,Bt,dI,p,g,S0=po_list[5][m]\n",
    "    V_sim = run6_tofit(t_data,aS,dS,Bt,dI,p,g,S0)\n",
    "    lk_list[5].append(np.log(np.nanprod(norm.pdf(x=V_sim,loc=V_data,scale=Vscl)))) #log likelihood\n"
   ]
  },
  {
   "cell_type": "code",
   "execution_count": 125,
   "metadata": {
    "collapsed": false,
    "scrolled": true
   },
   "outputs": [
    {
     "name": "stdout",
     "output_type": "stream",
     "text": [
      "[ 0.  0.  0.  0.  0.  0.]\n"
     ]
    },
    {
     "data": {
      "image/png": "[encoded data removed]",
      "text/plain": [
       "<matplotlib.figure.Figure at 0x146012e80>"
      ]
     },
     "metadata": {},
     "output_type": "display_data"
    },
    {
     "data": {
      "image/png": "[encoded data removed]",
      "text/plain": [
       "<matplotlib.figure.Figure at 0x146012f28>"
      ]
     },
     "metadata": {},
     "output_type": "display_data"
    }
   ],
   "source": [
    "#now plot viral load fits\n",
    "\n",
    "# \n",
    "# 1. complete\n",
    "# 2. same natural death rate U and P\n",
    "# 3. E doesn't get recruited by presence of U cells\n",
    "# 4. no U\n",
    "# 5. no E\n",
    "# 6. no E and no U\n",
    "# \n",
    "\n",
    "modelz=range(6)\n",
    "Vs=[[],[],[],[],[],[]]\n",
    "AIC_arr=np.zeros([len(modelz),25])\n",
    "\n",
    "fig,axarr = plt.subplots(5,5,sharex=True,sharey=True,figsize=(12,12),dpi=600)\n",
    "fig2=plt.figure(figsize=(4,3),dpi=600)\n",
    "ax2=fig2.add_subplot(111)\n",
    "cind=0; tind=0\n",
    "tt=np.linspace(0,30*7,1e4)\n",
    "for m in m_list:\n",
    "    if prim_df.keys()[m] in ATI_list[0]:\n",
    "        markz='s'\n",
    "        color=cz[0][cind]\n",
    "        cind+=1\n",
    "    elif prim_df.keys()[m] in ATI_list[1]:\n",
    "        markz='>'\n",
    "        color=cz[1][tind]\n",
    "        tind+=1\n",
    "    else:\n",
    "        markz='o'\n",
    "        color='gray'\n",
    "    \n",
    "    t_data = prim_weeks.values[:,0]*7 #put in days scale\n",
    "    V_data = np.log10(prim_df.iloc[:,m].interpolate(method='linear',axis=0,limit=2)) #use log data\n",
    "\n",
    "    aS,dS,Bt,tau,dU,dP,k,aE,dE,E50,w,p,g,S0,E0=po_list[0][m]\n",
    "    Vs[0] = run1_tofit(tt,aS,dS,Bt,tau,dU,dP,k,aE,dE,E50,w,p,g,S0,E0)\n",
    "    \n",
    "    aS,dS,Bt,tau,dI,k,aE,dE,E50,w,p,g,S0,E0=po_list[1][m]\n",
    "    Vs[1] = run2_tofit(tt,aS,dS,Bt,tau,dI,k,aE,dE,E50,w,p,g,S0,E0)\n",
    "    \n",
    "    aS,dS,Bt,tau,dI,k,aE,dE,E50,w,p,g,S0,E0=po_list[2][m]\n",
    "    Vs[2] = run3_tofit(tt,aS,dS,Bt,tau,dI,k,aE,dE,E50,w,p,g,S0,E0)\n",
    "\n",
    "    aS,dS,Bt,dI,k,aE,dE,E50,w,p,g,S0,E0=po_list[3][m]\n",
    "    Vs[3] = run4_tofit(tt,aS,dS,Bt,dI,k,aE,dE,E50,w,p,g,S0,E0)\n",
    "\n",
    "    aS,dS,Bt,tau,dU,dP,p,g,S0,E0=po_list[4][m]\n",
    "    Vs[4] = run5_tofit(tt,aS,dS,Bt,tau,dU,dP,p,g,S0,E0)\n",
    "\n",
    "    aS,dS,Bt,dI,p,g,S0=po_list[5][m]\n",
    "    Vs[5] = run6_tofit(tt,aS,dS,Bt,dI,p,g,S0)\n",
    "\n",
    "    ax=axarr[int(np.floor(m/5))][m-int(np.floor(m/5))*5]\n",
    "    ax.scatter(t_data/7,V_data,color=color,alpha=1,s=10,marker=markz)\n",
    "    for i in modelz:\n",
    "        ax.plot(tt/7,Vs[i])#,color='black',linewidth=1)\n",
    "\n",
    "    AIC=2*pz-2*np.array(lk_list)[:,m]\n",
    "    #AIC_arr[:,m]=AIC\n",
    "    ax2.scatter(np.arange(1,len(AIC)+1)+np.random.normal(0,0.1,[1,len(AIC)]),AIC,color=color,alpha=0.5,s=20,marker=markz)\n",
    "\n",
    "#ax2.scatter(np.arange(1,len(AIC)+1),np.nanmean(AIC_arr,1),color='k',marker='_',s=350)\n",
    "#ax2.scatter(np.arange(1,len(AIC)+1),np.nanmean(AIC_arr,1),color='k',marker='o',s=50)\n",
    "    \n",
    "ax.set_xlim([-3,30])\n",
    "ax.set_ylim([1,8])\n",
    "ax.legend([str(modelz[_]) for _ in range(len(modelz))])\n",
    "fig.tight_layout()\n",
    "fig.savefig('primaryfits.pdf')  # No warning now\n",
    "    \n",
    "ax2.set_xticks(range(1,7))\n",
    "ax2.set_xlabel('model')\n",
    "ax2.set_ylabel('AIC')\n",
    "\n",
    "fig2.tight_layout()\n",
    "fig2.savefig('AIC.pdf')  # No warning now\n",
    "\n",
    "print(np.nanmean(AIC_arr,1))"
   ]
  },
  {
   "cell_type": "code",
   "execution_count": 122,
   "metadata": {
    "collapsed": false
   },
   "outputs": [
    {
     "data": {
      "image/png": "[encoded data removed]",
      "text/plain": [
       "<matplotlib.figure.Figure at 0x114d4d780>"
      ]
     },
     "metadata": {},
     "output_type": "display_data"
    },
    {
     "data": {
      "image/png": "[encoded data removed]",
      "text/plain": [
       "<matplotlib.figure.Figure at 0x14752e908>"
      ]
     },
     "metadata": {},
     "output_type": "display_data"
    },
    {
     "data": {
      "image/png": "[encoded data removed]",
      "text/plain": [
       "<matplotlib.figure.Figure at 0x114ec3eb8>"
      ]
     },
     "metadata": {},
     "output_type": "display_data"
    },
    {
     "data": {
      "image/png": "[encoded data removed]",
      "text/plain": [
       "<matplotlib.figure.Figure at 0x11946fb70>"
      ]
     },
     "metadata": {},
     "output_type": "display_data"
    },
    {
     "data": {
      "image/png": "[encoded data removed]",
      "text/plain": [
       "<matplotlib.figure.Figure at 0x149b6c2b0>"
      ]
     },
     "metadata": {},
     "output_type": "display_data"
    }
   ],
   "source": [
    "#for each model\n",
    "for j in range(6):\n",
    "\n",
    "    #show the fitting variance matrices\n",
    "    fig1,axarr = plt.subplots(5,5,sharex=True,sharey=True,figsize=(3,3),dpi=600)\n",
    "    \n",
    "    #for each monkey\n",
    "    for i in range(5):\n",
    "        ax=axarr[int(np.floor(i/5))][i%5]\n",
    "        bp=po_list[j][i] #best parameter set\n",
    "        mean_sq = np.transpose(np.matrix(bp))*np.matrix(bp)#matrix of param values to normalize\n",
    "        #ax.matshow(np.log10(np.abs(covs[i])))\n",
    "        f=ax.matshow(np.log10(np.abs(pc_list[j][i])/mean_sq))\n",
    "        f.set_clim([-1,7])\n",
    "    plt.yticks([])\n",
    "    plt.xticks([])\n",
    "    plt.tight_layout()\n",
    "    plt.savefig('figures/covs'+str(j)+'.pdf')  # No warning now\n",
    "\n"
   ]
  },
  {
   "cell_type": "code",
   "execution_count": null,
   "metadata": {
    "collapsed": true
   },
   "outputs": [],
   "source": [
    "    fig2=plt.figure(figsize=(5,2),dpi=600)\n",
    "    mean_sq = np.transpose(np.matrix(np.mean(paramz_PI,0)))*np.matrix(np.mean(paramz_PI,0))#matrix of mean param values to normalize\n",
    "    plt.matshow(np.log10(np.mean(np.abs(covs),0)/mean_sq))\n",
    "    plt.yticks(range(9),param_names)\n",
    "    plt.xticks(range(9),param_names)\n",
    "    plt.colorbar()\n",
    "    #plt.tight_layout()\n",
    "    #plt.gcf().savefig('covariancematrix.pdf')  # No warning now\n",
    "    plt.gcf().savefig('labeled_cov.pdf')  # No warning now\n",
    "\n",
    "    plt.clim([-1,7])\n",
    "    #cbar = plt.colorbar( ticks=range(-3,10), orientation='horizontal')\n",
    "    #cbar.ax.set_xticklabels(['Low', 'Medium', 'High'])  # horizontal colorbar\n"
   ]
  },
  {
   "cell_type": "code",
   "execution_count": null,
   "metadata": {
    "collapsed": false
   },
   "outputs": [],
   "source": [
    "#fit to R_0?\n",
    "fig=plt.figure(figsize=(4,3),dpi=600)\n",
    "cind=0; tind=0\n",
    "for m in range(num_fits):\n",
    "    if prim_df.keys()[m] in ATI_list and prim_df.keys()[m] in Contr:\n",
    "        markz='s'\n",
    "        color=cz[cind]\n",
    "        cind+=1\n",
    "    elif prim_df.keys()[m] in ATI_list and prim_df.keys()[m] in Trans:\n",
    "        markz='>'\n",
    "        color=cz[4+tind]\n",
    "        tind+=1\n",
    "    else:\n",
    "        markz='o'\n",
    "        color='gray'\n",
    "    \n",
    "    V_data = np.log10(prim_df.iloc[0:5,m].interpolate(method='linear',axis=0,limit=2)) #use log data\n",
    "    t_data = df.weeks[prim_df.iloc[0:5,m].index]*7 #put in days scale\n",
    "    \n",
    "    R_0=2.3\n",
    "    #plt.subplot(311)\n",
    "    plt.scatter(t_data,V_data,color=color,marker=markz,alpha=0.5)\n",
    "    plt.ylim([0,10])\n",
    "    \n",
    "plt.plot(t_data,(R_0-1)*t_data+np.log10(30),color='k')\n",
    "plt.annotate('$V=V_0e^{\\delta_P(\\mathcal{R}_0-1)t}$', xy=(6.5,9), xytext=(6.5,9), fontsize=12)\n",
    "plt.xlabel('Time $t$ (days)')\n",
    "plt.ylabel('Viral load $V$ \\n $\\log_{10}$(copies/mL)')\n",
    "plt.tight_layout()\n",
    "plt.gcf().savefig('primary_R0.pdf')  # No warning now\n",
    "    "
   ]
  },
  {
   "cell_type": "code",
   "execution_count": null,
   "metadata": {
    "collapsed": false
   },
   "outputs": [],
   "source": [
    "#plot between animal variance\n",
    "fig=plt.figure(figsize=(4,3),dpi=600)\n",
    "\n",
    "avg_log_V = np.mean(np.log10(prim_df),1) #use log data\n",
    "std_log_V = np.std(np.log10(prim_df),1) #use log data\n",
    "\n",
    "plt.plot(prim_weeks,avg_log_V)\n",
    "plt.plot(prim_weeks,std_log_V)\n",
    "#plt.plot(prim_weeks,np.log10(np.mean(prim_df,1)/np.std(prim_df,1)**2))\n",
    "\n",
    "print(np.mean(std_log_V))\n",
    "\n",
    "#plt.annotate('$V=V_0e^{\\delta_P(\\mathcal{R}_0-1)t}$', xy=(6.5,9), xytext=(6.5,9), fontsize=12)\n",
    "plt.xlabel('Time $t$ (weeks)')\n",
    "plt.ylabel('Viral load $V$ \\n $\\log_{10}$(copies/mL)')\n",
    "plt.legend(['$\\mu_{\\log_{10}V}$','$\\sigma_{\\log_{10}V}$'],fontsize=16)\n",
    "plt.tight_layout()\n",
    "plt.gcf().savefig('primary_noise.pdf')  # No warning now\n"
   ]
  },
  {
   "cell_type": "code",
   "execution_count": null,
   "metadata": {
    "collapsed": false
   },
   "outputs": [],
   "source": [
    "#now plot T cells\n",
    "fig,axarr = plt.subplots(5,5,sharex=True,sharey=True,figsize=(8,7),dpi=600)\n",
    "cind=0; tind=0\n",
    "tt=np.linspace(0,24*7,1e4)\n",
    "print('CD8 fold-change','R_0')\n",
    "for m in range(num_fits):\n",
    "    if prim_df.keys()[m] in ATI_list and prim_df.keys()[m] in Contr:\n",
    "        markz='s'\n",
    "        color=cz[cind]\n",
    "        cind+=1\n",
    "    elif prim_df.keys()[m] in ATI_list and prim_df.keys()[m] in Trans:\n",
    "        markz='>'\n",
    "        color=cz[4+tind]\n",
    "        tind+=1\n",
    "    else:\n",
    "        markz='o'\n",
    "        color='gray'\n",
    "\n",
    "    aS,dS,aE,dE,E50,k,w,S0,E0=paramz_PI[m,:]\n",
    "    \n",
    "    CD4s,CD8s = T_cell_calculate(tt,aS,dS,aE,dE,E50,k,w,aS/dS,E0)\n",
    "    \n",
    "    Bt=1e-4; #\n",
    "    dI=1;    #\n",
    "    tau=0.05  #Doitsh Cell 2010\n",
    "    p=5e4\n",
    "    g=23   #Shen PNAS 2007\n",
    "    n=p/g\n",
    "    \n",
    "    Eeq=aE/dE\n",
    "    \n",
    "    print(max(CD8s)/E0,tau*Bt*n*aS/dS/dI-k*aE/dE/dI)\n",
    "    \n",
    "    #axarr[int(np.floor(m/5))][m-int(np.floor(m/5))*5].scatter(t_data/7,10**V_data,color=color,alpha=1,s=10,marker=markz)\n",
    "    \n",
    "    axarr[int(np.floor(m/5))][m-int(np.floor(m/5))*5].semilogy(tt/7,CD4s,color=color,linewidth=2)\n",
    "    axarr[int(np.floor(m/5))][m-int(np.floor(m/5))*5].plot(tt/7,CD8s,color=color,linestyle='--',linewidth=2)\n",
    "    \n",
    "    #plt.xlim([-3,25])\n",
    "    #plt.ylim([10,2e8])\n",
    "\n",
    "axarr[4][2].set_xlabel('Time (weeks)')\n",
    "axarr[2][0].set_ylabel('Cells per $\\mu$L')\n",
    "\n",
    "plt.legend(['all CD4+','cytolytic'],fontsize=8,loc=0)    \n",
    "plt.tight_layout()\n",
    "plt.gcf().savefig('primary_cells-peg.pdf')  # No warning now\n"
   ]
  },
  {
   "cell_type": "code",
   "execution_count": null,
   "metadata": {
    "collapsed": false
   },
   "outputs": [],
   "source": [
    "   \n",
    "#actually plot from confidence in model to read table including stddev of parameters\n",
    "fig,axarr = plt.subplots(3,3,sharey=False,sharex=True,figsize=(8,6),dpi=600)\n",
    "for i in range(len(param_names)):\n",
    "    ax=axarr[i-int(np.floor(i/3))*3][int(np.floor(i/3))]\n",
    "        \n",
    "    mup=np.mean(paramz_PI,0)[i]\n",
    "    sigp=np.std(paramz_PI,0)[i]\n",
    "    sigp2=np.sqrt(np.mean(errz_PI,0)[i]) #from covariance matrix\n",
    "\n",
    "    rangez=np.linspace(mup/100,mup*100,1e4)\n",
    "                             \n",
    "    prob_param = norm.pdf(x=rangez,loc=mup,scale=sigp)\n",
    "    \n",
    "\n",
    "    #A common parametrization for a lognormal random variable Y is in terms of the mean, mu, and standard deviation, sigma, \n",
    "    #of the unique normally distributed random variable X such that exp(X) = Y. \n",
    "    #This parametrization corresponds to setting s = sigma and scale = exp(mu).\n",
    "    #prob_param = lognorm.pdf(x=rangez, s=sigp, loc=mup, scale=np.exp(mup))\n",
    "\n",
    "    \n",
    "    \n",
    "    prob_param2 = norm.pdf(x=rangez,loc=mup,scale=sigp2)\n",
    "\n",
    "    #ax.semilogx(np.linspace(1/100,100,len(rangez)),prob_param/sum(prob_param))\n",
    "    ax.semilogx(np.linspace(1/100,100,len(rangez)),prob_param2/sum(prob_param2))\n",
    "\n",
    "    ax.set_title(param_names[i],fontsize=12)\n",
    "    ax.tick_params(axis='both', which='major', labelsize=8)\n",
    "\n",
    "    #make the latex table for fit parameters\n",
    "    print(param_names[i],'&',\n",
    "          '%s' % float('%.2g' % mup),\n",
    "          '&','%s' % float('%.2g' % sigp),\n",
    "          '&','%s' % float('%.2g' % sigp2)\n",
    "          ,r'\\\\')\n",
    "\n",
    "axarr[1][0].set_ylabel('probability of \\n parameter value')\n",
    "axarr[2][1].set_xlabel('parameter value \\n (factor scaling initial)')\n",
    "#axarr[2][2].legend(['$\\sigma_p$','$\\sigma_{p(cov)}$'],fontsize=12,loc=3)\n",
    "#plt.xlim([1e-3,1e4])\n",
    "plt.tight_layout()\n",
    "plt.gcf().savefig('primary_variable_distributions-peg.pdf')  # No warning now\n"
   ]
  },
  {
   "cell_type": "code",
   "execution_count": null,
   "metadata": {
    "collapsed": true
   },
   "outputs": [],
   "source": [
    "#initialize the parameter arrays\n",
    "paramz_ATI=np.zeros([len(ATI_list),len(param_names)]);\n",
    "errz_ATI=np.zeros([len(ATI_list),len(param_names)]);\n"
   ]
  },
  {
   "cell_type": "code",
   "execution_count": null,
   "metadata": {
    "collapsed": false
   },
   "outputs": [],
   "source": [
    "#Modeling rebound infection data\n",
    "fig,axarr = plt.subplots(2,4,sharex=True,sharey=True,figsize=(7,3),dpi=600)\n",
    "#fit to all, or some\n",
    "#for i in [2]:\n",
    "for i in range(len(ATI_list)):\n",
    "    \n",
    "    V_data = np.log10(ATI_df[ATI_df.columns[i]].interpolate(method='linear',axis=0,limit=2).dropna(axis=0))\n",
    "    \n",
    "    t_temp = ATI_weeks_df[ATI_weeks_df.columns[i]]-ATI_weeks[ATI_weeks_df.columns[i]]\n",
    "    \n",
    "    t_data = t_temp[V_data.index]*7\n",
    "    \n",
    "    #aS,dS,aE,dE,E50,k,w,S0,E0=paramz_PI[i] #start at historic values\n",
    "    \n",
    "    aS = 100;  #\n",
    "    dS = 0.3;   #susceptible death rate [1/day] \n",
    "    k  = 0.01\n",
    "    w  = 0.01;  #immune cell multiplier [1/day]\n",
    "    aE = 0.0001; #  \n",
    "    E50= 250; #observed in data? order of magnitude estimate\n",
    "    dE = 0.003;  #immune death rate [1/day]\n",
    "    S0 = [100,100,110,210,1,1,1,1][i]   \n",
    "    E0 = [100,100,90,212,1,1,1,1][i]   \n",
    "\n",
    "    guess = aS ,dS  ,aE   ,dE    ,E50 ,k    ,w    ,S0 ,E0\n",
    "    \n",
    "    #much more generous bounds for E0 and S0\n",
    "    u_b   = 1e3,3   ,0.00050,0.0500,1000,0.100,1.000,1e3,500\n",
    "    l_b   = 10 ,0.03,0.00005,0.0003,100.,0.001,0.001,0  ,0\n",
    "    guess_bounds = (l_b,u_b)\n",
    "    \n",
    "    guess_bounds = [tuple(np.array(guess)/10),tuple(np.array(guess)*10)]\n",
    "\n",
    "    optimal,stdevz = fitting_algorithm(t_data,V_data,tuple(guess),guess_bounds) #perform fit\n",
    "    \n",
    "    paramz_ATI[i,:]=optimal; errz_ATI[i,:]=stdevz #add to array of parameters\n",
    "    \n",
    "#plot all now\n",
    "for i in range(len(ATI_list)):\n",
    "        \n",
    "    V_data = np.log10(ATI_df[ATI_df.columns[i]].interpolate(method='linear',axis=0,limit=2).dropna(axis=0))\n",
    "    \n",
    "    t_temp = ATI_weeks_df[ATI_weeks_df.columns[i]]-ATI_weeks[ATI_weeks_df.columns[i]]\n",
    "    \n",
    "    t_data = t_temp[V_data.index]*7\n",
    "\n",
    "    aS,dS,aE,dE,E50,k,w,S0,E0=paramz_ATI[i,:]\n",
    "\n",
    "    tt=np.linspace(0,t_data.iloc[-1],1e4)\n",
    "    logV=func_to_optimize(tt,aS,dS,aE,dE,E50,k,w,S0,E0) #optimize\n",
    "\n",
    "    if ATI_df.columns[i] in Contr:\n",
    "        markz='s'\n",
    "    else:\n",
    "        markz='>'\n",
    "\n",
    "    axarr[int(np.floor(i/4))][i-int(np.floor(i/4))*4].scatter(t_data/7,10**V_data,color=cz[i],alpha=1,marker=markz,s=10)\n",
    "    axarr[int(np.floor(i/4))][i-int(np.floor(i/4))*4].semilogy(tt/7,10**logV,'k',linewidth=1)\n",
    "\n",
    "    plt.xlim([-3,25])\n",
    "    plt.ylim([10,1e8])\n",
    "\n",
    "plt.tight_layout()\n",
    "plt.gcf().savefig('ATIfits-peg.pdf')  # No warning now"
   ]
  },
  {
   "cell_type": "code",
   "execution_count": null,
   "metadata": {
    "collapsed": false
   },
   "outputs": [],
   "source": [
    "#variable subplots\n",
    "\n",
    "fig,axarr = plt.subplots(3,3,sharex=True,sharey=False,figsize=(8,6),dpi=600)\n",
    "#plt.figure(figsize=(6,6),dpi=600)\n",
    "nz=0.2\n",
    "#variable_params = \n",
    "\n",
    "for i in range(len(param_names)):\n",
    "    #plt.subplot(3,3,i+1)\n",
    "    \n",
    "    S=10 #marker size\n",
    "    \n",
    "    ax=axarr[i-int(np.floor(i/3))*3][int(np.floor(i/3))]\n",
    "\n",
    "    cind=0; tind=0;\n",
    "    for m in range(num_fits):\n",
    "\n",
    "        if prim_df.keys()[m] in ATI_list and prim_df.keys()[m] in Contr:\n",
    "            markz='s'\n",
    "            color=cz[cind]\n",
    "            cind+=1\n",
    "            alz=1\n",
    "        elif prim_df.keys()[m] in ATI_list and prim_df.keys()[m] in Trans:\n",
    "            markz='>'\n",
    "            color=cz[4+tind]\n",
    "            tind+=1\n",
    "            alz=1\n",
    "        else:\n",
    "            markz='o'\n",
    "            color='gray'\n",
    "            alz=0.5\n",
    "        \n",
    "        ax.scatter(1+np.random.uniform(low=-nz, high=nz),paramz_PI[m][i],color=color,alpha=alz,marker=markz,s=S)\n",
    "    \n",
    "    for j in range(4):\n",
    "        ax.scatter(2+np.random.uniform(low=-nz, high=nz),paramz_ATI[j][i],color=cz[j],marker='s',s=S)\n",
    "    for j in np.arange(4)+4:\n",
    "        ax.scatter(3+np.random.uniform(low=-nz, high=nz),paramz_ATI[j][i],color=cz[j],marker='>',s=S)\n",
    "    \n",
    "    ax.set_title(param_names[i])\n",
    "    #plt.ylim([l_b[i],u_b[i]])\n",
    "    plt.yscale('log')\n",
    "    #ax.set_xticks([1,2,3],['','',''])\n",
    "    plt.xticks([1,2,3],['Primary','ATI \\n ctl','ATI \\n trans'])\n",
    "    #ax.tick_params(axis='both', which='major', labelsize=8)\n",
    "\n",
    "plt.tight_layout()\n",
    "plt.gcf().savefig('paramfits.pdf')  # No warning now"
   ]
  },
  {
   "cell_type": "code",
   "execution_count": null,
   "metadata": {
    "collapsed": false
   },
   "outputs": [],
   "source": [
    "#first find ratios of parameters to historic values\n",
    "prat_ctl=np.zeros([4,len(param_names)])\n",
    "prat_trs=np.zeros([4,len(param_names)])\n",
    "\n",
    "for i in range(len(param_names)):   \n",
    "    jC=0; jT=0\n",
    "    for m in range(num_fits):\n",
    "        if prim_df.keys()[m] in ATI_list:    \n",
    "            if prim_df.keys()[m] in Contr:                \n",
    "                prat_ctl[jC,i]=paramz_ATI[jC][i]/paramz_PI[m][i]\n",
    "                jC+=1\n",
    "            else:\n",
    "                prat_trs[jT,i]=paramz_ATI[jT+4][i]/paramz_PI[m][i]\n",
    "                jT+=1\n",
    "\n",
    "#now calculate significantly different from 1 parameters\n",
    "sig_yes_c=[]\n",
    "sig_yes_t=[]\n",
    "num_sigma=1\n",
    "\n",
    "def moresig():\n",
    "    for i in range(len(param_names)):\n",
    "        mu_c = np.mean(prat_ctl[:,i])\n",
    "        si_c = np.std(prat_ctl[:,i])\n",
    "\n",
    "        if mu_c>1 and mu_c-num_sigma*si_c>1:\n",
    "            sig_yes_c.append('*')\n",
    "        if mu_c<1 and mu_c+num_sigma*si_c<1:\n",
    "            sig_yes_c.append('*')\n",
    "        else:\n",
    "            sig_yes_c.append('')\n",
    "\n",
    "        mu_t = np.mean(prat_trs[:,i])\n",
    "        si_t = np.std(prat_trs[:,i])\n",
    "\n",
    "        if mu_t>1 and mu_t-num_sigma*si_t>1:\n",
    "            sig_yes_t.append('*')\n",
    "        if mu_t<1 and mu_t+num_sigma*si_t<1:\n",
    "            sig_yes_t.append('*')\n",
    "        else:\n",
    "            sig_yes_t.append('')\n",
    "\n",
    "def simplesig():\n",
    "    #just check if all greater or less than 1\n",
    "    for i in range(len(param_names)):\n",
    "        if (prat_ctl[:,i]<1).all() or (prat_ctl[:,i]>1).all():\n",
    "            sig_yes_c.append('*')\n",
    "        else:\n",
    "            sig_yes_c.append('')\n",
    "\n",
    "        if (prat_trs[:,i]<1).all() or (prat_trs[:,i]>1).all():\n",
    "            sig_yes_t.append('*')\n",
    "        else:\n",
    "            sig_yes_t.append('')\n",
    "\n",
    "simplesig()\n",
    "#now make plots that show singnificant values\n",
    "fig,axarr = plt.subplots(3,3,sharex=False,sharey=True,figsize=(7,5),dpi=600)\n",
    "#plt.figure(figsize=(6,6),dpi=600)\n",
    "for j in range(len(param_names)):\n",
    "    \n",
    "    ax=axarr[j-int(np.floor(j/3))*3][int(np.floor(j/3))]\n",
    "    #plt.subplot(3,3,j+1)\n",
    "        \n",
    "    for i in range(4):\n",
    "        ax.scatter(1+np.random.uniform(low=-nz, high=nz),prat_ctl[i,j],color=cz[i],marker='s',s=10)\n",
    "        ax.scatter(2+np.random.uniform(low=-nz, high=nz),prat_trs[i,j],color=cz[i+4],marker='>',s=10)\n",
    "    \n",
    "    ax.annotate(str(param_names[j]), xy=(1.4,100), fontsize=16)\n",
    "    #ax.set_title(str(param_names[j]),fontsize=12)\n",
    "    ax.axhline(y=1,color='k')\n",
    "\n",
    "    ax.set_yscale('log')\n",
    "    ax.set_xlim([0.5,2.5])\n",
    "    #ax.set_ylim([1e-2,1e3])\n",
    "    \n",
    "    xticklabz=['Ctl'+sig_yes_c[j],'Trs'+sig_yes_t[j]]\n",
    "    ax.set_xticks([1,2])\n",
    "    ax.set_xticklabels(xticklabz)\n",
    "\n",
    "    #plt.tick_params(axis='both', which='major', labelsize=10)\n",
    "\n",
    "plt.ylim([8e-3,1e3])\n",
    "plt.tight_layout()\n",
    "plt.gcf().savefig('param_ratios.pdf')  # No warning now\n"
   ]
  },
  {
   "cell_type": "code",
   "execution_count": null,
   "metadata": {
    "collapsed": false
   },
   "outputs": [],
   "source": [
    "#for each monkey, make a bar plot of its parameter changes\n",
    "\n",
    "fig,axarr = plt.subplots(4,2,sharex=True,sharey=True,figsize=(8,4),dpi=600)\n",
    "\n",
    "for i in range(4):\n",
    "    axarr[i][0].bar(range(len(param_names)),prat_ctl[i],color=cz[i])\n",
    "    axarr[i][1].bar(range(len(param_names)),prat_trs[i],color=cz[i+4])\n",
    "\n",
    "    for j in range(2):\n",
    "        axarr[i][j].axhline(y=1,color='k')\n",
    "        axarr[i][j].tick_params(axis='both', which='major', labelsize=10)\n",
    "        axarr[i][j].set_xticks(np.arange(len(param_names))+0.5)\n",
    "        axarr[i][j].set_xticklabels(param_names)\n",
    "    \n",
    "    plt.ylim([0.1,100])\n",
    "    plt.yscale('log')\n",
    "\n",
    "plt.tight_layout()\n",
    "plt.gcf().savefig('paramfits_bars-peg.pdf')  # No warning now"
   ]
  },
  {
   "cell_type": "code",
   "execution_count": null,
   "metadata": {
    "collapsed": false
   },
   "outputs": [],
   "source": [
    "#plotting violins for each variable from primary infection on a different subplot\n",
    "\n",
    "#fig,axarr = plt.subplots(4,2,sharex=True,sharey=True,figsize=(8,4),dpi=600)\n",
    "plt.figure(figsize=(8,6),dpi=600)\n",
    "\n",
    "#variable_params = \n",
    "for i in range(len(param_names)):\n",
    "    plt.subplot(3,3,i+1)\n",
    "    \n",
    "    plt.violinplot(np.array(paramz_PI)[:,i],showmedians=True)\n",
    "    \n",
    "    plt.title(param_names[i],fontsize=16)\n",
    "\n",
    "    plt.yscale('log')\n",
    "    plt.tick_params(axis='both', which='major', labelsize=12)\n",
    "\n",
    "    #plt.gca().axes.get_xaxis().set_visible(False)\n",
    "\n",
    "plt.subplot(334)\n",
    "plt.ylabel('Parameter value')\n",
    "plt.subplot(338)\n",
    "plt.xlabel('Normalized counts')\n",
    "\n",
    "plt.tight_layout()\n",
    "plt.gcf().savefig('paramfits_violins.pdf')  # No warning now"
   ]
  },
  {
   "cell_type": "code",
   "execution_count": null,
   "metadata": {
    "collapsed": true
   },
   "outputs": [],
   "source": []
  },
  {
   "cell_type": "code",
   "execution_count": null,
   "metadata": {
    "collapsed": true
   },
   "outputs": [],
   "source": []
  }
 ],
 "metadata": {
  "kernelspec": {
   "display_name": "Python 3",
   "language": "python",
   "name": "python3"
  },
  "language_info": {
   "codemirror_mode": {
    "name": "ipython",
    "version": 3
   },
   "file_extension": ".py",
   "mimetype": "text/x-python",
   "name": "python",
   "nbconvert_exporter": "python",
   "pygments_lexer": "ipython3",
   "version": "3.5.1"
  }
 },
 "nbformat": 4,
 "nbformat_minor": 0
}

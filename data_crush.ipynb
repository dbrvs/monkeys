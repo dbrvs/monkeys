{
 "cells": [
  {
   "cell_type": "markdown",
   "metadata": {},
   "source": [
    "# Taking the messier data and making it nice\n"
   ]
  },
  {
   "cell_type": "code",
   "execution_count": 1,
   "metadata": {
    "collapsed": false
   },
   "outputs": [
    {
     "name": "stderr",
     "output_type": "stream",
     "text": [
      "/Applications/miniconda2/lib/python2.7/site-packages/matplotlib/font_manager.py:273: UserWarning: Matplotlib is building the font cache using fc-list. This may take a moment.\n",
      "  warnings.warn('Matplotlib is building the font cache using fc-list. This may take a moment.')\n"
     ]
    }
   ],
   "source": [
    "#!/usr/bin/python\n",
    "# by DBR 2/2017 #\n",
    "\n",
    "import pandas as pd\n",
    "import numpy as np\n",
    "\n",
    "#list the cohorts as they show up in excel\n",
    "Contr = ['Z09087','Z09106','Z09192','A11201','Z09204'] #control\n",
    "Trans = ['Z09144','Z08214','Z09125','A11200','Z09196'] #transplant\n",
    "Nctlr = ['A11214']                                     #natural controller\n",
    "Stabl = ['A11213','A11221']                            #stable set point no cART\n",
    "CCR5T = ['A11219','R10155','T10187','R10159','T10173',\n",
    "          'Z12037','Z12216','Z11151','Z12351','Z12370',\n",
    "          'Z13133','Z12417','Z12420']                   #ccr5delta mutation transplant\n",
    "\n",
    "cohorts     = [Contr,Trans,Nctlr,Stabl,CCR5T]\n",
    "cohort_names= ['Control','Transplant','Natural Controller','Stable ART',r'CCR5$\\Delta$ Transplant']\n",
    "list_names  = [Contr+Trans+Nctlr+Stabl+CCR5T]\n",
    "list_names  = list_names[0]\n",
    "num_monkeys = len(list_names)\n",
    "\n",
    "ATI_list = ['Z09087','Z09106','Z09192','Z09204','Z09144','Z08214','A11200','Z09196'] #8 good rebounds\n"
   ]
  },
  {
   "cell_type": "code",
   "execution_count": 2,
   "metadata": {
    "collapsed": false
   },
   "outputs": [],
   "source": [
    "#import data from csv\n",
    "df = pd.DataFrame.from_csv('VL.csv')\n",
    "\n",
    "#find the primary infection\n",
    "idx_ART = df[df['weeks'] == 24].index.tolist()[0] #the index of the earliest ART start for any monkey\n",
    "idx_PI  = df[df['weeks'] == 0].index.tolist()[0]  #the index of the primary infection\n",
    "\n",
    "#concatenate the 3 cohorts of interest\n",
    "prim_df=pd.concat([df[cohorts[0]][idx_PI:idx_ART], \n",
    "                   df[cohorts[1]][idx_PI:idx_ART], \n",
    "                   df[cohorts[3]][idx_PI:idx_ART], \n",
    "                   df[cohorts[4]][idx_PI:idx_ART]], axis=1)\n",
    "\n",
    "prim_weeks = df['weeks'][idx_PI:idx_ART] #get the weeks of primary infection\n"
   ]
  },
  {
   "cell_type": "code",
   "execution_count": 24,
   "metadata": {
    "collapsed": false
   },
   "outputs": [],
   "source": [
    "pd.DataFrame.to_csv(prim_df,'prim_df.csv')\n",
    "pd.DataFrame.to_csv(pd.DataFrame(prim_weeks),'prim_weeks.csv')"
   ]
  },
  {
   "cell_type": "code",
   "execution_count": 4,
   "metadata": {
    "collapsed": false
   },
   "outputs": [],
   "source": [
    "names_in_order = ['Z09087', 'Z09144', 'Z09106', 'Z09192', 'Z08214', 'Z09125', 'A11200',\n",
    " 'A11201', 'Z09196', 'Z09204', 'A11219', 'A11221', 'A11213', 'A11214', 'R10155',\n",
    " 'T10187', 'R10159', 'T10173', 'Z12037', 'Z12216', 'Z11151', 'Z12351', 'Z12370',\n",
    " 'Z13133', 'Z12417', 'Z12420']"
   ]
  },
  {
   "cell_type": "code",
   "execution_count": 28,
   "metadata": {
    "collapsed": false
   },
   "outputs": [],
   "source": [
    "#find the analytic treatment interruption viral loads\n",
    "offART = [77,77,81,81,81,0,84,81,81,81,90,0,0,0,0,89,0,0,0,0,0,0,0,0,0,0]\n",
    "ATI_df=pd.DataFrame(columns=ATI_list) #dataframe for ATI viral loads\n",
    "ATI_weeks_df=pd.DataFrame(columns=ATI_list) #dataframe for ATI times\n",
    "\n",
    "ATI_weeks={}\n",
    "\n",
    "for i in range(len(names_in_order)):\n",
    "    \n",
    "    if names_in_order[i] in ATI_list:\n",
    "    \n",
    "        idx_ATI = df[df['weeks'] == offART[i]].index.tolist()[0] #find the index of ATI\n",
    "\n",
    "        idx_Reb = idx_ATI #assume rebound at ATI\n",
    "        \n",
    "        #then adjust so reb at first positive \n",
    "        #print names_in_order[i]\n",
    "        rebound=False\n",
    "        #adjust index to be first positive index\n",
    "        while rebound==False:\n",
    "            if np.isnan(df[names_in_order[i]][idx_Reb]) or df[names_in_order[i]][idx_Reb]<=30:\n",
    "                rebound=False\n",
    "                idx_Reb+=1\n",
    "            else:\n",
    "                rebound=True\n",
    "                idx_Reb-=1 #now start at index just before the first positive\n",
    "            #print df[names_in_order[i]][idx_Reb] #print to check it is working\n",
    "        \n",
    "        #now fill up ATI dataframes\n",
    "        ATI_df[names_in_order[i]]=df[names_in_order[i]][idx_Reb:]\n",
    "        ATI_weeks_df[names_in_order[i]]=df['weeks'][idx_Reb:]\n",
    "        ATI_weeks[names_in_order[i]]=df['weeks'][idx_Reb]#offART[i]\n"
   ]
  },
  {
   "cell_type": "code",
   "execution_count": 26,
   "metadata": {
    "collapsed": false
   },
   "outputs": [],
   "source": [
    "pd.DataFrame.to_csv(ATI_weeks_df,'ATI_weeks.csv')\n",
    "pd.DataFrame.to_csv(ATI_df,'ATI_df.csv')"
   ]
  }
 ],
 "metadata": {
  "kernelspec": {
   "display_name": "Python 2",
   "language": "python",
   "name": "python2"
  },
  "language_info": {
   "codemirror_mode": {
    "name": "ipython",
    "version": 2
   },
   "file_extension": ".py",
   "mimetype": "text/x-python",
   "name": "python",
   "nbconvert_exporter": "python",
   "pygments_lexer": "ipython2",
   "version": "2.7.11"
  }
 },
 "nbformat": 4,
 "nbformat_minor": 0
}

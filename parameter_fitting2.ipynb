{
 "cells": [
  {
   "cell_type": "markdown",
   "metadata": {},
   "source": [
    "# Model fitting"
   ]
  },
  {
   "cell_type": "code",
   "execution_count": 6,
   "metadata": {
    "collapsed": false
   },
   "outputs": [
    {
     "name": "stderr",
     "output_type": "stream",
     "text": [
      "/Applications/miniconda2/lib/python2.7/site-packages/matplotlib/font_manager.py:273: UserWarning: Matplotlib is building the font cache using fc-list. This may take a moment.\n",
      "  warnings.warn('Matplotlib is building the font cache using fc-list. This may take a moment.')\n"
     ]
    }
   ],
   "source": [
    "#!/usr/bin/python\n",
    "# by DBR 2/2017 #\n",
    "\n",
    "%matplotlib inline  \n",
    "\n",
    "import pandas as pd\n",
    "import numpy as np\n",
    "from scipy.optimize import curve_fit\n",
    "from scipy.integrate import odeint\n",
    "import matplotlib.pyplot as plt\n",
    "import pyDOE\n",
    "from scipy.stats import pearsonr,spearmanr,norm,lognorm\n",
    "from all_models import *\n",
    "\n",
    "plt.style.use('seaborn-white')\n",
    "\n",
    "#colors for plotting\n",
    "cz=[ 'darkcyan','indigo','blue', 'royalblue',\n",
    "    'indianred', 'darkred', 'salmon', 'red']\n",
    "\n",
    "#upload data\n",
    "prim_df = pd.DataFrame.from_csv('prim_df.csv')\n",
    "prim_weeks = pd.DataFrame.from_csv('prim_weeks.csv')\n",
    "ATI_df = pd.DataFrame.from_csv('ATI_df.csv')\n",
    "ATI_weeks = pd.DataFrame.from_csv('ATI_weeks.csv')\n"
   ]
  },
  {
   "cell_type": "code",
   "execution_count": 7,
   "metadata": {
    "collapsed": true
   },
   "outputs": [],
   "source": [
    "\n",
    "#names of parameters to vary\n",
    "param_names=[\n",
    "            r'$\\alpha_S$',\n",
    "            r'$\\delta_E$',\n",
    "            r'$\\omega$',\n",
    "            r'$S_0$',\n",
    "            r'$E_0$']\n"
   ]
  },
  {
   "cell_type": "code",
   "execution_count": 8,
   "metadata": {
    "collapsed": false
   },
   "outputs": [],
   "source": [
    "#initial conditions that are always true regardless of model\n",
    "U0=0      #no infected cells\n",
    "V0=0.03   #start with 30 copies per mL\n",
    "P0=0      #productively infected cells\n",
    "\n",
    "def run1(tt,*p):\n",
    "    \n",
    "    aS=p[0]\n",
    "    dE=p[1]\n",
    "    w=p[2]\n",
    "    S0=p[3]\n",
    "    E0=p[4]\n",
    "    \n",
    "    dS = 0.3;   #susceptible death rate [1/day] \n",
    "    Bt = 1e-4;  #infectivity [cells/virion-day]\n",
    "    tau= 0.05   #productively infected probability\n",
    "    dP = 1;     #productively infected death rate [1/day]\n",
    "    dU = 1;     #unproductively infected death rate [1/day]\n",
    "    k  = 10;  #immune cell killing rate [1/day]\n",
    "    aE = 0.001;  #initial E cell concentration [cells/uL]\n",
    "    E50 = 25;   #50 pct max E cell concentration [cells/uL]\n",
    "    p  = 5e4    #leak+burst viral production rate [virions/cell]\n",
    "    g  = 23     #viral clearance [1/day]\n",
    "\n",
    "    sol=odeint(model_1, [S0,U0,P0,E0,V0], tt, \n",
    "           (aS,dS,Bt,tau,dU,dP,k,aE,dE,E50,w,p,g), mxstep=1000)\n",
    "    \n",
    "    logV=np.log10(sol[:,4]*1e3) #log viral load copies per mL\n",
    "\n",
    "    return logV\n"
   ]
  },
  {
   "cell_type": "code",
   "execution_count": 9,
   "metadata": {
    "collapsed": true
   },
   "outputs": [],
   "source": [
    "#now the function that picks a bunch of initial conditions from lhs and\n",
    "#THEN uses least squares to fit from there\n",
    "def lhs_fit(guess,guess_bounds,sampz,t_data,V_data):\n",
    "    \n",
    "    #make the lhs samples\n",
    "    lhs_samples = pyDOE.lhs( int(len(guess)), samples=sampz, criterion='center')\n",
    "\n",
    "    #for each lhs_sample, do a fitting procedure with least-sq\n",
    "    init_params=[]; fit_params=[]; covs=[]; loglik=[]; rms=[];\n",
    "\n",
    "    for i in range(sampz):\n",
    "\n",
    "        #LHS logarithmically covering\n",
    "        lhs_list = 10**(np.log10(guess_bounds[0])+lhs_samples[i]*(np.log10(guess_bounds[1])\n",
    "                                                                  -np.log10(guess_bounds[0])))\n",
    "        p0=tuple(lhs_list)\n",
    "        \n",
    "        V_sim = run1(t_data,p0)\n",
    "\n",
    "        if (V_sim<-6).any(): #don't simulate ranges that have logV<0 or V<1 per uL\n",
    "            init_params.append(lhs_list)\n",
    "            fit_params.append(lhs_list)\n",
    "            covs.append(np.zeros([len(lhs_list),len(lhs_list)]))\n",
    "            rms.append(100)\n",
    "            loglik.append(-100)\n",
    "\n",
    "        else:\n",
    "            #bounds are +/- 1 log from lhs choice of initial conditions\n",
    "            lhs_bounds = tuple([tuple(np.array(lhs_list)/10),tuple(np.array(lhs_list)*10)])\n",
    "\n",
    "            #now use least squares to fit \"run1\" with all these lhs initial conditions\n",
    "            p_opt, p_cov = curve_fit(run1, t_data, V_data, p0=p0)#, bounds=lhs_bounds,sigma=1)#, absolute_sigma=True, max_nfev=1e3, verbose=1, xtol=1e-15, ftol=1e-15, gtol=1e-15)#,loss='soft_l1')\n",
    "                        \n",
    "            V_sim = run1(t_data,tuple(p_opt))\n",
    "            \n",
    "            rms.append(np.sqrt(np.nanmean((V_data-V_sim)**2))) #rms error\n",
    "            loglik.append(np.log10(np.nanprod(norm.pdf(x=V_sim,loc=V_data,scale=1)))) #log likelihood\n",
    "\n",
    "            #plt.plot(t_data,V_sim)\n",
    "\n",
    "            init_params.append(lhs_list)\n",
    "            fit_params.append(p_opt)\n",
    "            covs.append(p_cov)\n",
    "        \n",
    "    return np.array(loglik),np.array(rms),np.array(init_params),np.array(fit_params),np.array(covs)\n",
    "\n"
   ]
  },
  {
   "cell_type": "code",
   "execution_count": 10,
   "metadata": {
    "collapsed": false,
    "scrolled": false
   },
   "outputs": [
    {
     "ename": "IndexError",
     "evalue": "tuple index out of range",
     "output_type": "error",
     "traceback": [
      "\u001b[0;31m---------------------------------------------------------------------------\u001b[0m",
      "\u001b[0;31mIndexError\u001b[0m                                Traceback (most recent call last)",
      "\u001b[0;32m<ipython-input-10-a4e2694f7646>\u001b[0m in \u001b[0;36m<module>\u001b[0;34m()\u001b[0m\n\u001b[1;32m     32\u001b[0m     \u001b[0mlhs_samples\u001b[0m \u001b[0;34m=\u001b[0m \u001b[0mpyDOE\u001b[0m\u001b[0;34m.\u001b[0m\u001b[0mlhs\u001b[0m\u001b[0;34m(\u001b[0m \u001b[0mint\u001b[0m\u001b[0;34m(\u001b[0m\u001b[0mlen\u001b[0m\u001b[0;34m(\u001b[0m\u001b[0mguess\u001b[0m\u001b[0;34m)\u001b[0m\u001b[0;34m)\u001b[0m\u001b[0;34m,\u001b[0m \u001b[0msamples\u001b[0m\u001b[0;34m=\u001b[0m\u001b[0msampz\u001b[0m\u001b[0;34m,\u001b[0m \u001b[0mcriterion\u001b[0m\u001b[0;34m=\u001b[0m\u001b[0;34m'center'\u001b[0m\u001b[0;34m)\u001b[0m\u001b[0;34m\u001b[0m\u001b[0m\n\u001b[1;32m     33\u001b[0m \u001b[0;34m\u001b[0m\u001b[0m\n\u001b[0;32m---> 34\u001b[0;31m     \u001b[0mloglik\u001b[0m\u001b[0;34m,\u001b[0m\u001b[0mrms\u001b[0m\u001b[0;34m,\u001b[0m\u001b[0minit_params\u001b[0m\u001b[0;34m,\u001b[0m\u001b[0mfit_params\u001b[0m\u001b[0;34m,\u001b[0m\u001b[0mcovs\u001b[0m\u001b[0;34m=\u001b[0m\u001b[0mlhs_fit\u001b[0m\u001b[0;34m(\u001b[0m\u001b[0mguess\u001b[0m\u001b[0;34m,\u001b[0m\u001b[0mguess_bounds\u001b[0m\u001b[0;34m,\u001b[0m\u001b[0msampz\u001b[0m\u001b[0;34m,\u001b[0m\u001b[0mt_data\u001b[0m\u001b[0;34m,\u001b[0m\u001b[0mV_data\u001b[0m\u001b[0;34m)\u001b[0m\u001b[0;34m\u001b[0m\u001b[0m\n\u001b[0m\u001b[1;32m     35\u001b[0m \u001b[0;34m\u001b[0m\u001b[0m\n\u001b[1;32m     36\u001b[0m     \u001b[0mranked_sets\u001b[0m \u001b[0;34m=\u001b[0m \u001b[0;34m(\u001b[0m\u001b[0;34m-\u001b[0m\u001b[0mloglik\u001b[0m\u001b[0;34m)\u001b[0m\u001b[0;34m.\u001b[0m\u001b[0margsort\u001b[0m\u001b[0;34m(\u001b[0m\u001b[0;34m)\u001b[0m\u001b[0;34m\u001b[0m\u001b[0m\n",
      "\u001b[0;32m<ipython-input-9-35c7dcd5b129>\u001b[0m in \u001b[0;36mlhs_fit\u001b[0;34m(guess, guess_bounds, sampz, t_data, V_data)\u001b[0m\n\u001b[1;32m     16\u001b[0m         \u001b[0mp0\u001b[0m\u001b[0;34m=\u001b[0m\u001b[0mtuple\u001b[0m\u001b[0;34m(\u001b[0m\u001b[0mlhs_list\u001b[0m\u001b[0;34m)\u001b[0m\u001b[0;34m\u001b[0m\u001b[0m\n\u001b[1;32m     17\u001b[0m \u001b[0;34m\u001b[0m\u001b[0m\n\u001b[0;32m---> 18\u001b[0;31m         \u001b[0mV_sim\u001b[0m \u001b[0;34m=\u001b[0m \u001b[0mrun1\u001b[0m\u001b[0;34m(\u001b[0m\u001b[0mt_data\u001b[0m\u001b[0;34m,\u001b[0m\u001b[0mp0\u001b[0m\u001b[0;34m)\u001b[0m\u001b[0;34m\u001b[0m\u001b[0m\n\u001b[0m\u001b[1;32m     19\u001b[0m \u001b[0;34m\u001b[0m\u001b[0m\n\u001b[1;32m     20\u001b[0m         \u001b[0;32mif\u001b[0m \u001b[0;34m(\u001b[0m\u001b[0mV_sim\u001b[0m\u001b[0;34m<\u001b[0m\u001b[0;34m-\u001b[0m\u001b[0;36m6\u001b[0m\u001b[0;34m)\u001b[0m\u001b[0;34m.\u001b[0m\u001b[0many\u001b[0m\u001b[0;34m(\u001b[0m\u001b[0;34m)\u001b[0m\u001b[0;34m:\u001b[0m \u001b[0;31m#don't simulate ranges that have logV<0 or V<1 per uL\u001b[0m\u001b[0;34m\u001b[0m\u001b[0m\n",
      "\u001b[0;32m<ipython-input-8-c04e010a52af>\u001b[0m in \u001b[0;36mrun1\u001b[0;34m(tt, *p)\u001b[0m\n\u001b[1;32m      7\u001b[0m \u001b[0;34m\u001b[0m\u001b[0m\n\u001b[1;32m      8\u001b[0m     \u001b[0maS\u001b[0m\u001b[0;34m=\u001b[0m\u001b[0mp\u001b[0m\u001b[0;34m[\u001b[0m\u001b[0;36m0\u001b[0m\u001b[0;34m]\u001b[0m\u001b[0;34m\u001b[0m\u001b[0m\n\u001b[0;32m----> 9\u001b[0;31m     \u001b[0mdE\u001b[0m\u001b[0;34m=\u001b[0m\u001b[0mp\u001b[0m\u001b[0;34m[\u001b[0m\u001b[0;36m1\u001b[0m\u001b[0;34m]\u001b[0m\u001b[0;34m\u001b[0m\u001b[0m\n\u001b[0m\u001b[1;32m     10\u001b[0m     \u001b[0mw\u001b[0m\u001b[0;34m=\u001b[0m\u001b[0mp\u001b[0m\u001b[0;34m[\u001b[0m\u001b[0;36m2\u001b[0m\u001b[0;34m]\u001b[0m\u001b[0;34m\u001b[0m\u001b[0m\n\u001b[1;32m     11\u001b[0m     \u001b[0mS0\u001b[0m\u001b[0;34m=\u001b[0m\u001b[0mp\u001b[0m\u001b[0;34m[\u001b[0m\u001b[0;36m3\u001b[0m\u001b[0;34m]\u001b[0m\u001b[0;34m\u001b[0m\u001b[0m\n",
      "\u001b[0;31mIndexError\u001b[0m: tuple index out of range"
     ]
    }
   ],
   "source": [
    "#try it for a single monkey!\n",
    "\n",
    "aS = 100;   #constant growth rate of susceptibles [cells/uL/day]\n",
    "dS = 0.3;   #susceptible death rate [1/day] \n",
    "Bt = 1e-4;  #infectivity [cells/virion-day]\n",
    "tau= 0.05   #productively infected probability\n",
    "dP = 1;     #productively infected death rate [1/day]\n",
    "dU = 1;     #unproductively infected death rate [1/day]\n",
    "k  = 10;  #immune cell killing rate [1/day]\n",
    "aE = 0.001;  #initial E cell concentration [cells/uL]\n",
    "dE = 0.1; #immune death rate [1/day]\n",
    "E50 = 25;   #50 pct max E cell concentration [cells/uL]\n",
    "w  = 0.01;  #immune cell multiplier [1/day]\n",
    "p  = 5e4    #leak+burst viral production rate [virions/cell]\n",
    "g  = 23     #viral clearance [1/day]\n",
    "S0 = aS/dS\n",
    "E0 = aE/dE\n",
    "\n",
    "guess = aS,dE,w,S0,E0\n",
    "\n",
    "guess_bounds = tuple([tuple(np.array(guess)/100),tuple(np.array(guess)*100)])\n",
    "\n",
    "#choose which monkeys to fit\n",
    "for m in [1]:\n",
    "\n",
    "    t_data = prim_weeks.values[:,0]*7 #put in days scale\n",
    "    V_data = np.log10(prim_df.iloc[:,m].interpolate(method='linear',axis=0,limit=2)) #use log data\n",
    "\n",
    "    sampz=5\n",
    "\n",
    "    #make the lhs samples\n",
    "    lhs_samples = pyDOE.lhs( int(len(guess)), samples=sampz, criterion='center')\n",
    "\n",
    "    loglik,rms,init_params,fit_params,covs=lhs_fit(guess,guess_bounds,sampz,t_data,V_data)\n",
    "\n",
    "    ranked_sets = (-loglik).argsort()\n",
    "\n",
    "    tt=np.linspace(0,35*7,1e3) #extrapolate a bit beyond data\n",
    "\n",
    "    num_fits=3 #how many lhs samples to show, must be >1 and <sampz \n",
    "    fig,axarr = plt.subplots(num_fits,3,figsize=(10,6),dpi=600)\n",
    "    for i in range(num_fits):\n",
    "\n",
    "        fitprmz=fit_params[ranked_sets[i]]\n",
    "        \n",
    "        aS,dS,Bt,tau,dU,dP,k,aE,dE,E50,w,p,g,S0,E0=tuple(fitprmz)\n",
    "        \n",
    "        V_sim = run1(tt,aS,dS,Bt,tau,dU,dP,k,aE,dE,E50,w,p,g,S0,E0)\n",
    "\n",
    "        mean_sq = np.transpose(np.matrix(fitprmz))*np.matrix(fitprmz)#matrix of param values to normalize\n",
    "\n",
    "        print(fitprmz)\n",
    "        \n",
    "        ax1=axarr[i][0]\n",
    "        ax1.plot(t_data/7,V_data,'o')\n",
    "        ax1.plot(tt/7,V_sim)\n",
    "        ax1.set_title((round(loglik[ranked_sets[i]],3),round(rms[ranked_sets[i]],3)),fontsize=8)\n",
    "        ax1.set_ylabel('viral load \\n log10(copies/mL)', fontsize=10)\n",
    "\n",
    "        #try to figure out how to visualize the search\n",
    "        ax2=axarr[i][1]\n",
    "        ax2.scatter(range(len(guess)),(init_params[ranked_sets[i]]-guess)/guess,marker='o',alpha=0.2)\n",
    "        ax2.scatter(range(len(guess)),(fitprmz-guess)/guess,marker='*',alpha=0.8)   \n",
    "        ax2.set_xticks(range(len(param_names)))\n",
    "        ax2.set_xticklabels(param_names)\n",
    "        ax2.set_ylabel('deviation \\n from guess', fontsize=10)\n",
    "\n",
    "        ax3=axarr[i][2]\n",
    "        f=ax3.matshow(np.log10(np.abs(covs[ranked_sets[i]])/mean_sq))\n",
    "        #f=ax3.matshow(np.sqrt(covs[ranked_sets[i]])/mean_sq)\n",
    "        f.set_clim([0,7])\n",
    "        ax3.set_xticks(range(len(param_names)))\n",
    "        ax3.set_xticklabels(param_names,fontsize=6)\n",
    "        ax3.set_yticks(range(len(param_names)))\n",
    "        ax3.set_yticklabels(param_names,fontsize=6)\n",
    "        #cbar = fig.colorbar(ax3)\n",
    "\n",
    "    axarr[i][0].set_xlabel('time (weeks)')\n",
    "    axarr[i][1].legend(['pre-fit (LHS)','post-fit'],fontsize=8,loc=2)\n",
    "    axarr[i][1].set_xlabel('parameter')\n",
    "    axarr[1][2].set_ylabel('covariances')\n",
    "    plt.tight_layout()\n",
    "\n",
    "    plt.savefig('model_1_fit'+str(m)+'.pdf')"
   ]
  },
  {
   "cell_type": "code",
   "execution_count": 11,
   "metadata": {
    "collapsed": false
   },
   "outputs": [
    {
     "name": "stdout",
     "output_type": "stream",
     "text": [
      "[  1.06758518e-24   1.00000000e+00] [[  1.90435953e-30  -0.00000000e+00]\n",
      " [  0.00000000e+00   6.68196326e-33]]\n"
     ]
    }
   ],
   "source": [
    "import numpy as np\n",
    "from scipy.optimize import curve_fit\n",
    "\n",
    "def func(x, *p): \n",
    "    return p[0] + p[1] * x\n",
    "\n",
    "popt, pcov = curve_fit(func, np.arange(10), np.arange(10), p0=(0, 0))\n",
    "print popt,pcov"
   ]
  },
  {
   "cell_type": "code",
   "execution_count": 12,
   "metadata": {
    "collapsed": false
   },
   "outputs": [
    {
     "ename": "NameError",
     "evalue": "name 'tt' is not defined",
     "output_type": "error",
     "traceback": [
      "\u001b[0;31m---------------------------------------------------------------------------\u001b[0m",
      "\u001b[0;31mNameError\u001b[0m                                 Traceback (most recent call last)",
      "\u001b[0;32m<ipython-input-12-4d7e673bf6c8>\u001b[0m in \u001b[0;36m<module>\u001b[0;34m()\u001b[0m\n\u001b[0;32m----> 1\u001b[0;31m \u001b[0mrun1\u001b[0m\u001b[0;34m(\u001b[0m\u001b[0mtt\u001b[0m\u001b[0;34m,\u001b[0m\u001b[0;34m*\u001b[0m\u001b[0mp\u001b[0m\u001b[0;34m)\u001b[0m\u001b[0;34m\u001b[0m\u001b[0m\n\u001b[0m",
      "\u001b[0;31mNameError\u001b[0m: name 'tt' is not defined"
     ]
    }
   ],
   "source": [
    "run1(tt,*p)"
   ]
  },
  {
   "cell_type": "code",
   "execution_count": 30,
   "metadata": {
    "collapsed": false
   },
   "outputs": [
    {
     "data": {
      "image/png": "[encoded data removed]",
      "text/plain": [
       "<matplotlib.figure.Figure at 0x13342c190>"
      ]
     },
     "metadata": {},
     "output_type": "display_data"
    }
   ],
   "source": [
    "\n",
    "#high setpoint\n",
    "\n",
    "hi = [  2.06043062e+03,   8.69081027e-01,   4.61813404e-05,   2.37331327e-01,\n",
    "   2.08470988e-02,   3.96335391e-01,   2.77097245e-01,   1.28768454e-03,\n",
    "   1.96415904e-03,   7.52873533e+00,   8.38958971e-03,   3.48904435e+02,\n",
    "   1.29247137e+00,   9.70295513e+02,   1.91001457e-01,]\n",
    "\n",
    "#low setpoint\n",
    "\n",
    "lo = [  8.83736329e+00,   3.02943983e-01,   9.13995397e-06,   9.32495180e-02,\n",
    "  -8.26756582e-01,   3.09726362e-02,   1.18387021e+02,   2.18658290e-03,\n",
    "   6.67194188e-02,   2.94213594e+03,  -2.98352978e-03,   9.63528063e+04,\n",
    "   6.21235157e-01,   1.07818261e+03,   1.38171046e-01,]\n",
    "\n",
    "med = [  9.54333884e-01,   1.97060611e-02,   6.52559837e-05,   3.57172022e-03,\n",
    "   1.09353707e-01,   2.74784033e+00,   6.15659153e-01,   2.18539027e-02,\n",
    "   5.47983413e-02,   7.88798960e+00,   2.27103039e-03,   9.93382051e+04,\n",
    "   3.15320753e-01,   6.11316278e+02,   1.10467478e-01,]\n",
    "\n",
    "x=np.arange(len(hi))\n",
    "plt.stem(x,hi,'r')\n",
    "plt.stem(x+0.1,lo)\n",
    "plt.stem(x+0.2,med,'k')\n",
    "plt.xticks(x,param_names)\n",
    "plt.yscale('log')"
   ]
  }
 ],
 "metadata": {
  "kernelspec": {
   "display_name": "Python 2",
   "language": "python",
   "name": "python2"
  },
  "language_info": {
   "codemirror_mode": {
    "name": "ipython",
    "version": 2
   },
   "file_extension": ".py",
   "mimetype": "text/x-python",
   "name": "python",
   "nbconvert_exporter": "python",
   "pygments_lexer": "ipython2",
   "version": "2.7.11"
  }
 },
 "nbformat": 4,
 "nbformat_minor": 0
}
